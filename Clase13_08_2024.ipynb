{
  "nbformat": 4,
  "nbformat_minor": 0,
  "metadata": {
    "colab": {
      "provenance": [],
      "authorship_tag": "ABX9TyOrdPNlqQMeBYjU2ji5JO/r",
      "include_colab_link": true
    },
    "kernelspec": {
      "name": "python3",
      "display_name": "Python 3"
    },
    "language_info": {
      "name": "python"
    }
  },
  "cells": [
    {
      "cell_type": "markdown",
      "metadata": {
        "id": "view-in-github",
        "colab_type": "text"
      },
      "source": [
        "<a href=\"https://colab.research.google.com/github/prexia/prexia-progra-2025-1/blob/apuntes-clases/Clase13_08_2024.ipynb\" target=\"_parent\"><img src=\"https://colab.research.google.com/assets/colab-badge.svg\" alt=\"Open In Colab\"/></a>"
      ]
    },
    {
      "cell_type": "code",
      "execution_count": null,
      "metadata": {
        "id": "KG-rXi40GHFX"
      },
      "outputs": [],
      "source": []
    },
    {
      "cell_type": "markdown",
      "source": [
        "# Nivel 1\n",
        "## Nivel 2\n",
        "### Nivel 3\n",
        "\n",
        "#Conceptos\n",
        "*Una variable es una etiqueta o nombre que se le asigna a un contenedor que almacena en la memoria\n",
        "\n",
        "*La forma de crecar es utilizando el signo =\n",
        "\n",
        "*Las formas de nombrar una variable: (Revisar el libro PEPB)\n",
        "\n",
        "*podemos ocupar letras, numeros o el caracter _\n",
        "\n",
        "*STRING-CADENA*\n",
        "\n",
        "alumno_uno = \"Carlos\"\n",
        "\n",
        "\n"
      ],
      "metadata": {
        "id": "bE8Ax-v3GIAg"
      }
    },
    {
      "cell_type": "code",
      "source": [
        "alumno_uno = \"Carlos\"\n",
        "print (alumno_uno)"
      ],
      "metadata": {
        "colab": {
          "base_uri": "https://localhost:8080/"
        },
        "id": "lIpbhrIQHtP3",
        "outputId": "9dba498e-1595-4e00-c9b3-44152f67ee67"
      },
      "execution_count": null,
      "outputs": [
        {
          "output_type": "stream",
          "name": "stdout",
          "text": [
            "Carlos\n"
          ]
        }
      ]
    },
    {
      "cell_type": "code",
      "source": [
        "#comentario de una solo linea\n",
        "'''\n",
        "cometario mas largo\n",
        "y de varias lineas\n",
        "'''\n",
        "x = (222.0)\n",
        "print (x)"
      ],
      "metadata": {
        "colab": {
          "base_uri": "https://localhost:8080/"
        },
        "id": "VSbI8q5vIPC4",
        "outputId": "98a78059-2e8f-4ee1-bcc3-5c9a47c7e9c8"
      },
      "execution_count": null,
      "outputs": [
        {
          "output_type": "stream",
          "name": "stdout",
          "text": [
            "222.0\n"
          ]
        }
      ]
    },
    {
      "cell_type": "code",
      "source": [
        "print(10/3)\n",
        "print(10*3)\n",
        "print(10-3)\n",
        "print(10+3)\n",
        "print(10%3)\n",
        "print(10**3)"
      ],
      "metadata": {
        "colab": {
          "base_uri": "https://localhost:8080/"
        },
        "id": "aHYKrHXtKzNw",
        "outputId": "34f69c11-efb6-41bb-c7d6-498f7c4cd676"
      },
      "execution_count": null,
      "outputs": [
        {
          "output_type": "stream",
          "name": "stdout",
          "text": [
            "3.3333333333333335\n",
            "30\n",
            "7\n",
            "13\n",
            "1\n",
            "1000\n"
          ]
        }
      ]
    },
    {
      "cell_type": "code",
      "source": [
        "print(\"hola\"*3)"
      ],
      "metadata": {
        "colab": {
          "base_uri": "https://localhost:8080/"
        },
        "id": "WsUuifUfKzOl",
        "outputId": "3f9f4789-19fd-4e88-c8b0-38d49f875910"
      },
      "execution_count": null,
      "outputs": [
        {
          "output_type": "stream",
          "name": "stdout",
          "text": [
            "holaholahola\n"
          ]
        }
      ]
    },
    {
      "cell_type": "code",
      "source": [
        "print(\"Hoy toca clase con la ayudante \\n y es 13 de agosto \") #\\n para bajar de linea"
      ],
      "metadata": {
        "colab": {
          "base_uri": "https://localhost:8080/"
        },
        "id": "UIXOwC8KKzQQ",
        "outputId": "986dda8b-4811-409b-94bf-c86dbef1ba32"
      },
      "execution_count": null,
      "outputs": [
        {
          "output_type": "stream",
          "name": "stdout",
          "text": [
            "Hoy toca clase con la ayudante \n",
            " y es 13 de agosto \n"
          ]
        }
      ]
    },
    {
      "cell_type": "markdown",
      "source": [
        "#Orden de los operadores\n",
        "1* Parentesis\n",
        "\n",
        "2* Exponente\n",
        "\n",
        "3* Negacion -\n",
        "\n",
        "4* Multiplicacion *, division/, cociente //, modulo o residuo%\n",
        "\n",
        "5* Suma y resta +-"
      ],
      "metadata": {
        "id": "0CJYl4mOMbmv"
      }
    },
    {
      "cell_type": "code",
      "source": [
        "print(10*(5+3))\n",
        "#primero hace la suma del parentesis y luego multiplica"
      ],
      "metadata": {
        "colab": {
          "base_uri": "https://localhost:8080/"
        },
        "id": "5WuNGgDZNHe6",
        "outputId": "74fa6c74-89c3-494b-ba06-72543d56b7b2"
      },
      "execution_count": null,
      "outputs": [
        {
          "output_type": "stream",
          "name": "stdout",
          "text": [
            "80\n"
          ]
        }
      ]
    },
    {
      "cell_type": "code",
      "source": [],
      "metadata": {
        "id": "W25a12yoNUoS"
      },
      "execution_count": null,
      "outputs": []
    }
  ]
}