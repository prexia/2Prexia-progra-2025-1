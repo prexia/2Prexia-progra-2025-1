{
  "nbformat": 4,
  "nbformat_minor": 0,
  "metadata": {
    "colab": {
      "provenance": [],
      "authorship_tag": "ABX9TyNul6FyoYeBwxVCIZ4050qQ",
      "include_colab_link": true
    },
    "kernelspec": {
      "name": "python3",
      "display_name": "Python 3"
    },
    "language_info": {
      "name": "python"
    }
  },
  "cells": [
    {
      "cell_type": "markdown",
      "metadata": {
        "id": "view-in-github",
        "colab_type": "text"
      },
      "source": [
        "<a href=\"https://colab.research.google.com/github/prexia/2Prexia-progra-2025-1/blob/apuntes-clases/Clase_12_08_2024.ipynb\" target=\"_parent\"><img src=\"https://colab.research.google.com/assets/colab-badge.svg\" alt=\"Open In Colab\"/></a>"
      ]
    },
    {
      "cell_type": "code",
      "execution_count": null,
      "metadata": {
        "colab": {
          "base_uri": "https://localhost:8080/"
        },
        "id": "9f75vS017uzh",
        "outputId": "d2de1cb5-fc2c-4d5f-80b6-93b7d08d4d23"
      },
      "outputs": [
        {
          "output_type": "execute_result",
          "data": {
            "text/plain": [
              "tuple"
            ]
          },
          "metadata": {},
          "execution_count": 1
        }
      ],
      "source": [
        "type((1,2))"
      ]
    },
    {
      "cell_type": "code",
      "source": [
        "#** exponencial\n",
        "#%\n",
        "#// division entera\n",
        "#/ division\n",
        "#+suma\n",
        "#-resta\n",
        "#OPERACIO0NES NO ITERABLES\"\""
      ],
      "metadata": {
        "id": "y68euXYe73pL"
      },
      "execution_count": null,
      "outputs": []
    },
    {
      "cell_type": "code",
      "source": [
        "x = (1,2)\n",
        "x[0]\n",
        "#"
      ],
      "metadata": {
        "colab": {
          "base_uri": "https://localhost:8080/"
        },
        "id": "bP_bQLqW8Gfp",
        "outputId": "26387807-3482-424e-a2d6-779d89dd6377"
      },
      "execution_count": null,
      "outputs": [
        {
          "output_type": "execute_result",
          "data": {
            "text/plain": [
              "1"
            ]
          },
          "metadata": {},
          "execution_count": 3
        }
      ]
    },
    {
      "cell_type": "code",
      "source": [
        "x = (1,2)\n",
        "x[1]\n",
        "#"
      ],
      "metadata": {
        "colab": {
          "base_uri": "https://localhost:8080/"
        },
        "id": "AxUIGFH78YQ4",
        "outputId": "bf740a30-a518-4d67-9f17-87e8d897ecb0"
      },
      "execution_count": null,
      "outputs": [
        {
          "output_type": "execute_result",
          "data": {
            "text/plain": [
              "2"
            ]
          },
          "metadata": {},
          "execution_count": 4
        }
      ]
    },
    {
      "cell_type": "code",
      "source": [
        "#Tupla\n",
        "x= (9,5,4,3,6) #La tupla lleva corchertes y no se puede modificar su estructura de la tupla como a las listas\n",
        "x[0]"
      ],
      "metadata": {
        "colab": {
          "base_uri": "https://localhost:8080/"
        },
        "id": "bgrYhZVT8rf1",
        "outputId": "d4f535b1-84bc-46b7-8136-6f5511dd8a38"
      },
      "execution_count": null,
      "outputs": [
        {
          "output_type": "execute_result",
          "data": {
            "text/plain": [
              "9"
            ]
          },
          "metadata": {},
          "execution_count": 5
        }
      ]
    },
    {
      "cell_type": "code",
      "source": [
        "#Lista\n",
        "l = [1,4,56,8,3] #La lista lleva corchetes\n",
        "print(l)"
      ],
      "metadata": {
        "colab": {
          "base_uri": "https://localhost:8080/"
        },
        "id": "-h3mBouJ8zyd",
        "outputId": "923ab01c-56c6-4a7d-a507-ec5b1fbaba15"
      },
      "execution_count": null,
      "outputs": [
        {
          "output_type": "stream",
          "name": "stdout",
          "text": [
            "[1, 4, 56, 8, 3]\n"
          ]
        }
      ]
    },
    {
      "cell_type": "code",
      "source": [
        "l[-1] # Con el -1 podemos ver el ultimo elemento de la lista y con el -2 el penultimo y asi consecutivamente"
      ],
      "metadata": {
        "colab": {
          "base_uri": "https://localhost:8080/"
        },
        "id": "mnTr8Ikw9D_0",
        "outputId": "2daf4f4b-f74a-42ff-95a6-fb17e2213cd8"
      },
      "execution_count": null,
      "outputs": [
        {
          "output_type": "execute_result",
          "data": {
            "text/plain": [
              "3"
            ]
          },
          "metadata": {},
          "execution_count": 7
        }
      ]
    },
    {
      "cell_type": "code",
      "source": [
        "len(l) #Cantidad de elementos de una lista"
      ],
      "metadata": {
        "colab": {
          "base_uri": "https://localhost:8080/"
        },
        "id": "2fx91hEu9Ija",
        "outputId": "2e75a576-550b-4bc9-8bf1-7c0e886e2a50"
      },
      "execution_count": null,
      "outputs": [
        {
          "output_type": "execute_result",
          "data": {
            "text/plain": [
              "5"
            ]
          },
          "metadata": {},
          "execution_count": 8
        }
      ]
    },
    {
      "cell_type": "code",
      "source": [
        "l.append(42) #Agrega un elemento a la lista copn el punto append\n",
        "print(l)"
      ],
      "metadata": {
        "colab": {
          "base_uri": "https://localhost:8080/"
        },
        "id": "sJPL0v3E9IkC",
        "outputId": "0fd8cbae-5f12-41c6-99b1-f1db77469fc4"
      },
      "execution_count": null,
      "outputs": [
        {
          "output_type": "stream",
          "name": "stdout",
          "text": [
            "[1, 4, 56, 8, 3, 42]\n"
          ]
        }
      ]
    },
    {
      "cell_type": "code",
      "source": [
        "y=\"124\",12\n",
        "print=(type(y))"
      ],
      "metadata": {
        "id": "-Bte_hhK-T0Q"
      },
      "execution_count": null,
      "outputs": []
    },
    {
      "cell_type": "code",
      "source": [
        "cadena =\"Hola Mundo !0\"\n",
        "print(cadena)"
      ],
      "metadata": {
        "colab": {
          "base_uri": "https://localhost:8080/"
        },
        "id": "CR8P_-u997X0",
        "outputId": "465031dc-8e8c-4649-8a0d-92d697a495e4"
      },
      "execution_count": null,
      "outputs": [
        {
          "output_type": "execute_result",
          "data": {
            "text/plain": [
              "('H', 'o', 'l', 'a', ' ', 'M', 'u', 'n', 'd', 'o', ' ', '!', '0')"
            ]
          },
          "metadata": {},
          "execution_count": 3
        }
      ]
    },
    {
      "cell_type": "code",
      "source": [
        "cadena = \"Hola Mundo!0\"\n",
        "print(cadena[1:4]) #Toma de los elementos 1 hasta el 4 de la cadena"
      ],
      "metadata": {
        "colab": {
          "base_uri": "https://localhost:8080/"
        },
        "id": "fOxI_3ypCOmT",
        "outputId": "09ee34c4-d8e1-4954-872c-77b046500979"
      },
      "execution_count": null,
      "outputs": [
        {
          "output_type": "execute_result",
          "data": {
            "text/plain": [
              "('o', 'l', 'a')"
            ]
          },
          "metadata": {},
          "execution_count": 8
        }
      ]
    },
    {
      "cell_type": "code",
      "source": [
        "diccionario = {\"llave\":\"valor\",\"hola\":\"mundo\"}\n",
        "diccionario[\"llave\"]\n",
        "diccionario[\"hola\"]\n"
      ],
      "metadata": {
        "colab": {
          "base_uri": "https://localhost:8080/",
          "height": 36
        },
        "id": "O4cD4n9BDJW9",
        "outputId": "795d2347-dedf-47c8-9af5-913013e5ec2c"
      },
      "execution_count": null,
      "outputs": [
        {
          "output_type": "execute_result",
          "data": {
            "text/plain": [
              "'mundo'"
            ],
            "application/vnd.google.colaboratory.intrinsic+json": {
              "type": "string"
            }
          },
          "metadata": {},
          "execution_count": 3
        }
      ]
    },
    {
      "cell_type": "code",
      "source": [],
      "metadata": {
        "id": "BrMDMIYpzMbX"
      },
      "execution_count": null,
      "outputs": []
    }
  ]
}