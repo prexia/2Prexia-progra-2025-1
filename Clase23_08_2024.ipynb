{
  "nbformat": 4,
  "nbformat_minor": 0,
  "metadata": {
    "colab": {
      "provenance": [],
      "authorship_tag": "ABX9TyNJLZYHrZPZuJrkH2N4sf4p",
      "include_colab_link": true
    },
    "kernelspec": {
      "name": "python3",
      "display_name": "Python 3"
    },
    "language_info": {
      "name": "python"
    }
  },
  "cells": [
    {
      "cell_type": "markdown",
      "metadata": {
        "id": "view-in-github",
        "colab_type": "text"
      },
      "source": [
        "<a href=\"https://colab.research.google.com/github/prexia/prexia-progra-2025-1/blob/apuntes-clases/Clase23_08_2024.ipynb\" target=\"_parent\"><img src=\"https://colab.research.google.com/assets/colab-badge.svg\" alt=\"Open In Colab\"/></a>"
      ]
    },
    {
      "cell_type": "code",
      "execution_count": null,
      "metadata": {
        "colab": {
          "base_uri": "https://localhost:8080/"
        },
        "id": "Zj1er9W3nhLk",
        "outputId": "f08cdc2d-c585-44e0-f745-de854a6ecb57"
      },
      "outputs": [
        {
          "output_type": "execute_result",
          "data": {
            "text/plain": [
              "[1, 2, 3, 5, 6, 7]"
            ]
          },
          "metadata": {},
          "execution_count": 4
        }
      ],
      "source": [
        "lst=[1,2,3,]\n",
        "lst+[5,6,7 ]#La suma de listas existe y estan concadenadas\n",
        "#No puedes sumar listas con enteros\n",
        "#list+ 5(esto no se puede)\n",
        "#lst.add(esto no se puede)\n"
      ]
    },
    {
      "cell_type": "code",
      "source": [
        "d={'a':\"Hola\"} # d es un diccionario por las llaves\n",
        "d['a']\n"
      ],
      "metadata": {
        "colab": {
          "base_uri": "https://localhost:8080/",
          "height": 36
        },
        "id": "K67iPCYWpzC6",
        "outputId": "da46cccf-1c99-4ff0-9a9f-d7081ec1666d"
      },
      "execution_count": null,
      "outputs": [
        {
          "output_type": "execute_result",
          "data": {
            "text/plain": [
              "'Hola'"
            ],
            "application/vnd.google.colaboratory.intrinsic+json": {
              "type": "string"
            }
          },
          "metadata": {},
          "execution_count": 9
        }
      ]
    },
    {
      "cell_type": "code",
      "source": [
        "type(d)"
      ],
      "metadata": {
        "colab": {
          "base_uri": "https://localhost:8080/"
        },
        "id": "lZhLkjBOqsBf",
        "outputId": "ad76ca84-1c4f-4b69-c997-ae19cc802d05"
      },
      "execution_count": null,
      "outputs": [
        {
          "output_type": "execute_result",
          "data": {
            "text/plain": [
              "dict"
            ]
          },
          "metadata": {},
          "execution_count": 7
        }
      ]
    },
    {
      "cell_type": "code",
      "source": [
        "type(\"hola\")"
      ],
      "metadata": {
        "colab": {
          "base_uri": "https://localhost:8080/"
        },
        "id": "etQ21dcyp0g8",
        "outputId": "a0370606-4ade-44d5-84e0-04d24ad8929a"
      },
      "execution_count": null,
      "outputs": [
        {
          "output_type": "execute_result",
          "data": {
            "text/plain": [
              "str"
            ]
          },
          "metadata": {},
          "execution_count": 8
        }
      ]
    },
    {
      "cell_type": "code",
      "source": [
        "#Tabla de conversion de grados\n",
        "#Celcius a farenheit de -20 en 5 en 5\n",
        "#F=9/5C+32\n",
        "C=-20\n",
        "F=9/5*C+32\n",
        "print(C,F)\n",
        "C=-15\n",
        "F=9/5*C+32\n",
        "print(C,F)\n",
        "C=-10\n",
        "F=9/5*C+32\n",
        "print(C,F)\n",
        "C=-5\n",
        "F=9/5*C+32\n",
        "print(C,F)\n",
        "C=0\n",
        "F=9/5*C+32\n",
        "print(C,F)\n",
        "C=5\n",
        "F=9/5*C+32\n",
        "print(C,F)\n",
        "C=10\n",
        "F=9/5*C+32\n",
        "print(C,F)"
      ],
      "metadata": {
        "colab": {
          "base_uri": "https://localhost:8080/"
        },
        "id": "tnuQEZK1rAIK",
        "outputId": "da0c5b8f-1b62-488c-925c-19f7308eb5de"
      },
      "execution_count": null,
      "outputs": [
        {
          "output_type": "stream",
          "name": "stdout",
          "text": [
            "-20 -4.0\n",
            "-15 5.0\n",
            "-10 14.0\n",
            "-5 23.0\n",
            "0 32.0\n",
            "5 41.0\n",
            "10 50.0\n"
          ]
        }
      ]
    },
    {
      "cell_type": "markdown",
      "source": [
        "##CICLOS WHILE Y FOR\n",
        "while(verdadero>)\n",
        "\n",
        "  Instruccion 1\n",
        "\n",
        "\n",
        "  iNSTRUCCION 2\n",
        "\n",
        "  Instruccion 3"
      ],
      "metadata": {
        "id": "Oz6ZpVhaspBw"
      }
    },
    {
      "cell_type": "code",
      "source": [
        "i=4\n",
        "while i<3: #Si la condicion es falsa no hace nada\n",
        "  print(i)\n",
        "  i-=1\n"
      ],
      "metadata": {
        "id": "lwUO2lGjsnR5"
      },
      "execution_count": null,
      "outputs": []
    },
    {
      "cell_type": "code",
      "source": [
        "i=7\n",
        "while i>3:\n",
        "  print(i)\n",
        "  i-=1 #Ahora i = 6 y lo ejecuta y luego vale 5 y asi hasta que llegue a 1>3"
      ],
      "metadata": {
        "colab": {
          "base_uri": "https://localhost:8080/"
        },
        "id": "lsCTejMnub1M",
        "outputId": "94302177-315a-4a95-e34a-785c4d51e609"
      },
      "execution_count": null,
      "outputs": [
        {
          "output_type": "stream",
          "name": "stdout",
          "text": [
            "7\n",
            "6\n",
            "5\n",
            "4\n"
          ]
        }
      ]
    }
  ]
}