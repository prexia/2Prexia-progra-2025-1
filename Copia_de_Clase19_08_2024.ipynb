{
  "nbformat": 4,
  "nbformat_minor": 0,
  "metadata": {
    "colab": {
      "provenance": [],
      "authorship_tag": "ABX9TyPIXigdzmw6Dohs0pbIcteb",
      "include_colab_link": true
    },
    "kernelspec": {
      "name": "python3",
      "display_name": "Python 3"
    },
    "language_info": {
      "name": "python"
    }
  },
  "cells": [
    {
      "cell_type": "markdown",
      "metadata": {
        "id": "view-in-github",
        "colab_type": "text"
      },
      "source": [
        "<a href=\"https://colab.research.google.com/github/prexia/prexia-progra-2025-1/blob/apuntes-clases/Copia_de_Clase19_08_2024.ipynb\" target=\"_parent\"><img src=\"https://colab.research.google.com/assets/colab-badge.svg\" alt=\"Open In Colab\"/></a>"
      ]
    },
    {
      "cell_type": "code",
      "execution_count": null,
      "metadata": {
        "colab": {
          "base_uri": "https://localhost:8080/"
        },
        "id": "co68YzyZ-oUc",
        "outputId": "5418ab3f-2801-455b-c193-8fe94df511fe"
      },
      "outputs": [
        {
          "output_type": "execute_result",
          "data": {
            "text/plain": [
              "True"
            ]
          },
          "metadata": {},
          "execution_count": 3
        }
      ],
      "source": [
        "x=2\n",
        "y=2\n",
        "x==y\n",
        "#El valor \"==\", nos arrojara un valor True sii ambos objetos tienen el mismo valor\n"
      ]
    },
    {
      "cell_type": "code",
      "source": [
        "print(id(x))\n",
        "print(id(y))"
      ],
      "metadata": {
        "colab": {
          "base_uri": "https://localhost:8080/"
        },
        "id": "MvE1uqHFBlRW",
        "outputId": "6a3f422d-aaae-4f32-ebc2-14abe2603757"
      },
      "execution_count": null,
      "outputs": [
        {
          "output_type": "stream",
          "name": "stdout",
          "text": [
            "137112320639248\n",
            "137112320639248\n"
          ]
        }
      ]
    },
    {
      "cell_type": "code",
      "source": [
        "x= True\n",
        "y= True\n",
        "print(id(x))\n",
        "print(id(y))\n",
        "x= False\n",
        "print(id(x)) # Cambia la identidad como en el RFC"
      ],
      "metadata": {
        "colab": {
          "base_uri": "https://localhost:8080/"
        },
        "id": "8tDKPYmiB2Ck",
        "outputId": "1c3914ee-1e18-4d10-e1fa-c03440b88f7e"
      },
      "execution_count": null,
      "outputs": [
        {
          "output_type": "stream",
          "name": "stdout",
          "text": [
            "100544336352288\n",
            "100544336352288\n",
            "100544336352256\n"
          ]
        }
      ]
    },
    {
      "cell_type": "code",
      "source": [
        "x= [1]\n",
        "y= [1]\n",
        "print(id(x))\n",
        "print(id(y))\n",
        "# En las listas son diferentes la identidad porque la puedes modificar\n"
      ],
      "metadata": {
        "colab": {
          "base_uri": "https://localhost:8080/"
        },
        "id": "mXRTM8sWB2Da",
        "outputId": "9f892073-3202-4460-c8c5-5642c23e606a"
      },
      "execution_count": null,
      "outputs": [
        {
          "output_type": "stream",
          "name": "stdout",
          "text": [
            "137111606612736\n",
            "137111606608576\n"
          ]
        }
      ]
    },
    {
      "cell_type": "code",
      "source": [
        "x= (1,2)\n",
        "y= (1,2)\n",
        "print(id(x))\n",
        "print(id(y)) # Cambia nose pq"
      ],
      "metadata": {
        "colab": {
          "base_uri": "https://localhost:8080/"
        },
        "id": "X--xxMyXCv3V",
        "outputId": "3e45c544-ee4b-46ed-f9f1-b548da70e730"
      },
      "execution_count": null,
      "outputs": [
        {
          "output_type": "stream",
          "name": "stdout",
          "text": [
            "137111890263744\n",
            "137111890328192\n"
          ]
        }
      ]
    },
    {
      "cell_type": "code",
      "source": [
        "not 3==2 #Negacion"
      ],
      "metadata": {
        "colab": {
          "base_uri": "https://localhost:8080/"
        },
        "id": "OHo_ZWHsEKP1",
        "outputId": "7a5bcf42-50a7-4648-b133-888602937031"
      },
      "execution_count": null,
      "outputs": [
        {
          "output_type": "execute_result",
          "data": {
            "text/plain": [
              "True"
            ]
          },
          "metadata": {},
          "execution_count": 9
        }
      ]
    },
    {
      "cell_type": "code",
      "source": [
        "3==3 and 3<5 #Conjuncion (ambas verdad )"
      ],
      "metadata": {
        "colab": {
          "base_uri": "https://localhost:8080/"
        },
        "id": "vFluz_OTEKrx",
        "outputId": "b8b4a54f-d097-46dd-b579-ca6dc5c8a7ee"
      },
      "execution_count": null,
      "outputs": [
        {
          "output_type": "execute_result",
          "data": {
            "text/plain": [
              "True"
            ]
          },
          "metadata": {},
          "execution_count": 10
        }
      ]
    },
    {
      "cell_type": "code",
      "source": [
        "3<3 or 3<5 #Disyuncion (al menos una es verdad)"
      ],
      "metadata": {
        "colab": {
          "base_uri": "https://localhost:8080/"
        },
        "id": "TgS7_KGXEULA",
        "outputId": "bbdf5abb-b7a9-4a76-b821-663c653bba22"
      },
      "execution_count": null,
      "outputs": [
        {
          "output_type": "execute_result",
          "data": {
            "text/plain": [
              "True"
            ]
          },
          "metadata": {},
          "execution_count": 11
        }
      ]
    },
    {
      "cell_type": "code",
      "source": [
        "#Expresiones condicionales\n",
        "x= 3 if 3 < 2 else 0\n",
        "print(x)\n",
        "y= 23 if len([45,12,5]) == 3 else 0\n",
        "print (y)"
      ],
      "metadata": {
        "colab": {
          "base_uri": "https://localhost:8080/"
        },
        "id": "fv3DE3RtEu2n",
        "outputId": "68acdf08-9075-4ed7-b1dd-7b8a1efffa14"
      },
      "execution_count": null,
      "outputs": [
        {
          "output_type": "stream",
          "name": "stdout",
          "text": [
            "0\n",
            "23\n"
          ]
        }
      ]
    },
    {
      "cell_type": "code",
      "source": [
        "f= lambda a:a+10 #definiendo una funcion\n",
        "f(1) #a=1 y la funcion dice a+10 = 11\n"
      ],
      "metadata": {
        "colab": {
          "base_uri": "https://localhost:8080/"
        },
        "id": "rBLfoGQhFEwj",
        "outputId": "cfb4cf96-c45e-45c6-dee1-8ede8709508c"
      },
      "execution_count": null,
      "outputs": [
        {
          "output_type": "execute_result",
          "data": {
            "text/plain": [
              "34"
            ]
          },
          "metadata": {},
          "execution_count": 22
        }
      ]
    },
    {
      "cell_type": "code",
      "source": [
        "f= lambda a:a+10 #definiendo una funcion\n",
        "f(24)"
      ],
      "metadata": {
        "colab": {
          "base_uri": "https://localhost:8080/"
        },
        "id": "HWAmKWseG2Ao",
        "outputId": "6db411b9-49cd-45b1-9cba-7de4a04bb416"
      },
      "execution_count": null,
      "outputs": [
        {
          "output_type": "execute_result",
          "data": {
            "text/plain": [
              "34"
            ]
          },
          "metadata": {},
          "execution_count": 23
        }
      ]
    },
    {
      "cell_type": "code",
      "source": [
        "f= lambda a:a**2 #definiendo una funcion\n",
        "f(8)"
      ],
      "metadata": {
        "colab": {
          "base_uri": "https://localhost:8080/"
        },
        "id": "dqYeqzWNG5Da",
        "outputId": "f3289b4d-6b64-4a19-cc75-0cd747ca1675"
      },
      "execution_count": null,
      "outputs": [
        {
          "output_type": "execute_result",
          "data": {
            "text/plain": [
              "64"
            ]
          },
          "metadata": {},
          "execution_count": 24
        }
      ]
    }
  ]
}