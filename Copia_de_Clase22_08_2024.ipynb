{
  "nbformat": 4,
  "nbformat_minor": 0,
  "metadata": {
    "colab": {
      "provenance": [],
      "authorship_tag": "ABX9TyMr0mcrMN6KTD2nISxA+xYG",
      "include_colab_link": true
    },
    "kernelspec": {
      "name": "python3",
      "display_name": "Python 3"
    },
    "language_info": {
      "name": "python"
    }
  },
  "cells": [
    {
      "cell_type": "markdown",
      "metadata": {
        "id": "view-in-github",
        "colab_type": "text"
      },
      "source": [
        "<a href=\"https://colab.research.google.com/github/prexia/prexia-progra-2025-1/blob/apuntes-clases/Copia_de_Clase22_08_2024.ipynb\" target=\"_parent\"><img src=\"https://colab.research.google.com/assets/colab-badge.svg\" alt=\"Open In Colab\"/></a>"
      ]
    },
    {
      "cell_type": "code",
      "source": [
        "#Clausulas if else\n",
        "x= 0\n",
        "if x>0:\n",
        "  print(\"x es mayor que 0\")\n",
        "elif x==0:\n",
        "  print(\"x es igual a 0 \")\n",
        "else:\n",
        "  print(\"x es menor a 0\")"
      ],
      "metadata": {
        "colab": {
          "base_uri": "https://localhost:8080/"
        },
        "id": "NZw0RyiIfGAU",
        "outputId": "df78b386-75b0-42d0-9c48-41d51b9ca927"
      },
      "execution_count": null,
      "outputs": [
        {
          "output_type": "stream",
          "name": "stdout",
          "text": [
            "x es igual a 0 \n"
          ]
        }
      ]
    },
    {
      "cell_type": "code",
      "execution_count": null,
      "metadata": {
        "colab": {
          "base_uri": "https://localhost:8080/"
        },
        "id": "mlAxzJ-PecNa",
        "outputId": "e917426a-5e8b-4df3-ad34-921246c1c21a"
      },
      "outputs": [
        {
          "output_type": "stream",
          "name": "stdout",
          "text": [
            "x es mayor que y \n"
          ]
        }
      ],
      "source": [
        "#Clausulas encadenadas if-else\n",
        "x=4\n",
        "y=3\n",
        "if x==y:\n",
        "  print(\"x es igual a y \")\n",
        "else:\n",
        "  if x>y:\n",
        "    print(\"x es mayor que y \")\n",
        "  else:\n",
        "   print(\" x es menor que y\")\n"
      ]
    },
    {
      "cell_type": "code",
      "source": [
        "x=3\n",
        "y=9 # Si y es mayor que 10 no imprime nada\n",
        "if x >0 and y<10:\n",
        "  print(\"x es positivo, y es menor a 10\")\n",
        "  print(\"medaigual\")# Se pueden poner mas de un print\n",
        "else:\n",
        "  print(\"x no es positivo, y es mayor a 10\")"
      ],
      "metadata": {
        "colab": {
          "base_uri": "https://localhost:8080/"
        },
        "id": "dqFPbqCsfF_Y",
        "outputId": "69c9d857-2e3c-4d05-e3ea-4496aab07d8d"
      },
      "execution_count": null,
      "outputs": [
        {
          "output_type": "stream",
          "name": "stdout",
          "text": [
            "x es positivo, y es menor a 10\n",
            "medaigual\n"
          ]
        }
      ]
    },
    {
      "cell_type": "code",
      "source": [
        "#Programa qu calcule el IMC y lo clasifique\n",
        "#IMC = masa/estatura^2\n",
        "#Bajo peso <18\n",
        "#peso normal entre 18 y 24\n",
        "#sobrepeso arriba de 24\n",
        "\n",
        "masa=72\n",
        "estatura=1.76 #en metros\n",
        "IMC=masa/estatura**2\n",
        "print(\"IMC:\",IMC)\n",
        "if IMC<18:\n",
        "  print(\"Bajo peso\")\n",
        "elif 18<IMC<25:\n",
        "  print(\"Peso normal \")\n",
        "elif 25<IMC<30:\n",
        "  print(\"Sobrepeso\")"
      ],
      "metadata": {
        "colab": {
          "base_uri": "https://localhost:8080/"
        },
        "id": "5wzg7YO_ivSN",
        "outputId": "c3be2287-729e-402a-dba2-c164b4a6a826"
      },
      "execution_count": null,
      "outputs": [
        {
          "output_type": "stream",
          "name": "stdout",
          "text": [
            "IMC: 23.243801652892564\n",
            "Peso normal \n"
          ]
        }
      ]
    }
  ]
}