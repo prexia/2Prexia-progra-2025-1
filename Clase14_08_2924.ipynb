{
  "nbformat": 4,
  "nbformat_minor": 0,
  "metadata": {
    "colab": {
      "provenance": [],
      "authorship_tag": "ABX9TyM0Ag3dgvnea4FtjbSqnwLU",
      "include_colab_link": true
    },
    "kernelspec": {
      "name": "python3",
      "display_name": "Python 3"
    },
    "language_info": {
      "name": "python"
    }
  },
  "cells": [
    {
      "cell_type": "markdown",
      "metadata": {
        "id": "view-in-github",
        "colab_type": "text"
      },
      "source": [
        "<a href=\"https://colab.research.google.com/github/prexia/prexia-progra-2025-1/blob/apuntes-clases/Clase14_08_2924.ipynb\" target=\"_parent\"><img src=\"https://colab.research.google.com/assets/colab-badge.svg\" alt=\"Open In Colab\"/></a>"
      ]
    },
    {
      "cell_type": "code",
      "execution_count": null,
      "metadata": {
        "id": "C6mGlm3qPLf9"
      },
      "outputs": [],
      "source": []
    },
    {
      "cell_type": "markdown",
      "source": [
        "#Jeraequia de operaciones\n",
        "\n",
        "La asociatividad de los operadortes es de izquierda a derecha salvo casos especificos"
      ],
      "metadata": {
        "id": "lTFImMHdQlyv"
      }
    },
    {
      "cell_type": "code",
      "source": [
        "# 1 expresiones dentro del parentesis de izquierda a derecha\n",
        "(1)\n",
        "(5+7)+(3+4)+(5+6)"
      ],
      "metadata": {
        "colab": {
          "base_uri": "https://localhost:8080/"
        },
        "id": "z1NgBs63Qwja",
        "outputId": "1a26670d-ab19-43fd-cbd6-faa8adb1797a"
      },
      "execution_count": null,
      "outputs": [
        {
          "output_type": "execute_result",
          "data": {
            "text/plain": [
              "30"
            ]
          },
          "metadata": {},
          "execution_count": 1
        }
      ]
    },
    {
      "cell_type": "markdown",
      "source": [
        "$$a =5+7 =12,$$\n",
        "$$b= 3+4 =7,$$\n",
        "$$c= 5+6 =11,$$\n",
        "$$d= a+b =19,$$\n",
        "$$e= d+c =30,$$"
      ],
      "metadata": {
        "id": "muu9QeciSkzD"
      }
    },
    {
      "cell_type": "code",
      "source": [
        "# Extraccion de elementos, referencias o atributos\n",
        "p=[10,20,30]# empieza a contar desde el elemento 0 y no cuenta el 2\n",
        "p[0:2]"
      ],
      "metadata": {
        "colab": {
          "base_uri": "https://localhost:8080/"
        },
        "id": "7xoeIr6SQ1kT",
        "outputId": "9e2561cb-a1e4-4b29-d05e-939e061de021"
      },
      "execution_count": null,
      "outputs": [
        {
          "output_type": "execute_result",
          "data": {
            "text/plain": [
              "[10, 20]"
            ]
          },
          "metadata": {},
          "execution_count": 2
        }
      ]
    },
    {
      "cell_type": "code",
      "source": [
        "#Exponenciacion de derecha a izquierda\n",
        "x=(2**3) #2 al cubo 2*2*2\n",
        "print(x)\n",
        "2**2**2 #2 al cuadrado 4 y al cuadrado 16"
      ],
      "metadata": {
        "colab": {
          "base_uri": "https://localhost:8080/"
        },
        "id": "08zq1QV4RCCO",
        "outputId": "fd8679d9-8f26-4bfc-ae6e-a0ab2ff5ee69"
      },
      "execution_count": null,
      "outputs": [
        {
          "output_type": "stream",
          "name": "stdout",
          "text": [
            "8\n"
          ]
        },
        {
          "output_type": "execute_result",
          "data": {
            "text/plain": [
              "16"
            ]
          },
          "metadata": {},
          "execution_count": 3
        }
      ]
    },
    {
      "cell_type": "code",
      "source": [
        "#4 Multiplicacion, division, division entera\n",
        "#Operaciones de izquiera a derecha\n",
        "a=(2/3.0)\n",
        "b=(2//3.0)\n",
        "c=(2*3/3)\n",
        "print(a)\n",
        "print(b)\n",
        "print(c)\n"
      ],
      "metadata": {
        "colab": {
          "base_uri": "https://localhost:8080/"
        },
        "id": "BU7NULfsUKbo",
        "outputId": "57bb362b-21e2-45cf-d25c-3ffa86300923"
      },
      "execution_count": null,
      "outputs": [
        {
          "output_type": "stream",
          "name": "stdout",
          "text": [
            "0.6666666666666666\n",
            "0.0\n",
            "2.0\n"
          ]
        }
      ]
    },
    {
      "cell_type": "code",
      "source": [
        "#5 sumas restas\n",
        "5+3+7+9-78-3"
      ],
      "metadata": {
        "colab": {
          "base_uri": "https://localhost:8080/"
        },
        "id": "_e_xiooSXbNy",
        "outputId": "bf77a51e-fc22-4f92-967f-dd4386878c80"
      },
      "execution_count": null,
      "outputs": [
        {
          "output_type": "execute_result",
          "data": {
            "text/plain": [
              "-57"
            ]
          },
          "metadata": {},
          "execution_count": 6
        }
      ]
    },
    {
      "cell_type": "code",
      "source": [
        "#6 Comparacion (<,>,=,>=,<=), identidad (is,not is ) y permanencia ( in,not in)\n",
        "3<4\n",
        "r=2\n",
        "o=3\n",
        "x o"
      ],
      "metadata": {
        "colab": {
          "base_uri": "https://localhost:8080/"
        },
        "id": "acnRR8ntXd3c",
        "outputId": "0d1bd733-dfa1-408c-9642-00212216acfe"
      },
      "execution_count": null,
      "outputs": [
        {
          "output_type": "execute_result",
          "data": {
            "text/plain": [
              "True"
            ]
          },
          "metadata": {},
          "execution_count": 5
        }
      ]
    }
  ]
}