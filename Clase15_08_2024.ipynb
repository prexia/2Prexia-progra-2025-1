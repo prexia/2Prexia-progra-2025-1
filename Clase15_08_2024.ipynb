{
  "nbformat": 4,
  "nbformat_minor": 0,
  "metadata": {
    "colab": {
      "provenance": [],
      "authorship_tag": "ABX9TyMJZnDWhVKSdFXhndTMxKA0",
      "include_colab_link": true
    },
    "kernelspec": {
      "name": "python3",
      "display_name": "Python 3"
    },
    "language_info": {
      "name": "python"
    }
  },
  "cells": [
    {
      "cell_type": "markdown",
      "metadata": {
        "id": "view-in-github",
        "colab_type": "text"
      },
      "source": [
        "<a href=\"https://colab.research.google.com/github/prexia/prexia-progra-2025-1/blob/apuntes-clases/Clase15_08_2024.ipynb\" target=\"_parent\"><img src=\"https://colab.research.google.com/assets/colab-badge.svg\" alt=\"Open In Colab\"/></a>"
      ]
    },
    {
      "cell_type": "code",
      "execution_count": 14,
      "metadata": {
        "colab": {
          "base_uri": "https://localhost:8080/"
        },
        "id": "sQ-xmo7Y--WZ",
        "outputId": "49e17932-9878-4d9e-ab13-b39aa3ab6818"
      },
      "outputs": [
        {
          "output_type": "execute_result",
          "data": {
            "text/plain": [
              "40.0"
            ]
          },
          "metadata": {},
          "execution_count": 14
        }
      ],
      "source": [
        "16/2*5"
      ]
    },
    {
      "cell_type": "code",
      "source": [
        "16/(2*5)"
      ],
      "metadata": {
        "colab": {
          "base_uri": "https://localhost:8080/"
        },
        "id": "IJzPHjF5B2AR",
        "outputId": "95527344-465b-47ed-afba-b1edc5f34885"
      },
      "execution_count": 13,
      "outputs": [
        {
          "output_type": "execute_result",
          "data": {
            "text/plain": [
              "1.6"
            ]
          },
          "metadata": {},
          "execution_count": 13
        }
      ]
    },
    {
      "cell_type": "code",
      "source": [
        "print (5*.6-0.5*9.81*0.6**2)"
      ],
      "metadata": {
        "colab": {
          "base_uri": "https://localhost:8080/"
        },
        "id": "kPChKptxCL3t",
        "outputId": "2532580f-f0bb-42c6-9162-a5cb74bf0bca"
      },
      "execution_count": 10,
      "outputs": [
        {
          "output_type": "stream",
          "name": "stdout",
          "text": [
            "1.2342\n"
          ]
        }
      ]
    },
    {
      "cell_type": "code",
      "source": [
        "# Formula de la pelota\n",
        "print(3*0.6-0.5*9.81*0.6**2)"
      ],
      "metadata": {
        "colab": {
          "base_uri": "https://localhost:8080/"
        },
        "id": "Q45rca5aCgpB",
        "outputId": "0af3e5c5-69c8-440b-855a-2cce6ced0112"
      },
      "execution_count": 11,
      "outputs": [
        {
          "output_type": "stream",
          "name": "stdout",
          "text": [
            "0.034199999999999786\n"
          ]
        }
      ]
    },
    {
      "cell_type": "code",
      "source": [
        "#Las mayusculas cambian la variable de al a que nos refermos\n",
        "Tiempo= 360000\n",
        "tiempo = 0\n",
        "print (tiempo)\n",
        "print(Tiempo)"
      ],
      "metadata": {
        "colab": {
          "base_uri": "https://localhost:8080/"
        },
        "id": "ZuDs4ZbqCw_7",
        "outputId": "6505fcba-e965-4035-ae46-6f31a623bf18"
      },
      "execution_count": 12,
      "outputs": [
        {
          "output_type": "stream",
          "name": "stdout",
          "text": [
            "0\n",
            "360000\n"
          ]
        }
      ]
    }
  ]
}